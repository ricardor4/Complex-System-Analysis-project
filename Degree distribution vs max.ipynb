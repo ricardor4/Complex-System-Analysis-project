{
 "cells": [
  {
   "cell_type": "code",
   "execution_count": 2,
   "metadata": {
    "ExecuteTime": {
     "end_time": "2020-06-17T08:44:44.774355Z",
     "start_time": "2020-06-17T08:44:44.751923Z"
    }
   },
   "outputs": [],
   "source": [
    "import networkx as nx\n",
    "import random\n",
    "import matplotlib.pyplot as plt\n",
    "import numpy as np\n",
    "%matplotlib inline\n",
    "\n",
    "\n",
    "\n",
    "def propagate_simple(G,p):\n",
    "    to_infect = set([])\n",
    "    # Find infected nodes\n",
    "    for v in G.nodes():\n",
    "        if G.nodes[v]['infected'] == 'I':\n",
    "            #infect all\n",
    "            for w in nx.neighbors(G, v):\n",
    "                if G.nodes[w]['infected'] == 'S':\n",
    "                    if random.random() < p:\n",
    "                        to_infect.add(w)\n",
    "                        break\n",
    "    # Infect marked nodes\n",
    "    for v in to_infect:\n",
    "        G.nodes[v]['infected'] = 'I'\n",
    "        \n",
    "        \n",
    "def recover(G,beta):\n",
    "    to_recover = set([])\n",
    "    # Find infected nodes\n",
    "    for v in G.nodes():\n",
    "        if G.nodes[v]['infected'] == 'I':\n",
    "            if random.random() < beta:\n",
    "                G.nodes[v]['infected'] = 'R'\n",
    "     \n",
    "    \n",
    "def update(G, p, q):\n",
    "    propagate_simple(G,p)\n",
    "    recover(G,q)\n"
   ]
  },
  {
   "cell_type": "markdown",
   "metadata": {},
   "source": [
    "We set the graph, erdos-renyi G(n,p) has a expected mean degree of np, with normal distribution of parameters $np, \\sqrt{2(1-\\tfrac{1}{n})p(1-p)} \\leq \\sqrt{\\frac{1}{2}} \\leq 0.708$\n",
    "\n",
    "Higher than 95% prob of being in np +- 1.5"
   ]
  },
  {
   "cell_type": "code",
   "execution_count": 3,
   "metadata": {
    "ExecuteTime": {
     "end_time": "2020-06-17T08:45:55.138540Z",
     "start_time": "2020-06-17T08:45:55.134657Z"
    }
   },
   "outputs": [],
   "source": [
    "degrees_to_test = np.arange(1, 1001, 100)"
   ]
  },
  {
   "cell_type": "code",
   "execution_count": 4,
   "metadata": {
    "ExecuteTime": {
     "end_time": "2020-06-17T08:46:01.607133Z",
     "start_time": "2020-06-17T08:46:01.600052Z"
    }
   },
   "outputs": [
    {
     "data": {
      "text/plain": [
       "array([  1, 101, 201, 301, 401, 501, 601, 701, 801, 901])"
      ]
     },
     "execution_count": 4,
     "metadata": {},
     "output_type": "execute_result"
    }
   ],
   "source": []
  },
  {
   "cell_type": "code",
   "execution_count": 6,
   "metadata": {
    "ExecuteTime": {
     "end_time": "2020-06-17T08:54:25.718149Z",
     "start_time": "2020-06-17T08:54:25.674333Z"
    }
   },
   "outputs": [
    {
     "ename": "NameError",
     "evalue": "name 'beta' is not defined",
     "output_type": "error",
     "traceback": [
      "\u001b[0;31m---------------------------------------------------------------------------\u001b[0m",
      "\u001b[0;31mNameError\u001b[0m                                 Traceback (most recent call last)",
      "\u001b[0;32m<ipython-input-6-72acfa22753b>\u001b[0m in \u001b[0;36m<module>\u001b[0;34m\u001b[0m\n\u001b[1;32m     14\u001b[0m         \u001b[0mInfectius\u001b[0m\u001b[0;34m[\u001b[0m\u001b[0mi\u001b[0m\u001b[0;34m]\u001b[0m \u001b[0;34m=\u001b[0m \u001b[0msum\u001b[0m\u001b[0;34m(\u001b[0m\u001b[0mx\u001b[0m \u001b[0;34m==\u001b[0m \u001b[0;34m'I'\u001b[0m \u001b[0;32mfor\u001b[0m \u001b[0mx\u001b[0m \u001b[0;32min\u001b[0m \u001b[0mdict_atributes\u001b[0m\u001b[0;34m.\u001b[0m\u001b[0mvalues\u001b[0m\u001b[0;34m(\u001b[0m\u001b[0;34m)\u001b[0m\u001b[0;34m)\u001b[0m\u001b[0;34m\u001b[0m\u001b[0;34m\u001b[0m\u001b[0m\n\u001b[1;32m     15\u001b[0m         \u001b[0;31m#Recovered[i] = sum(x == 'R' for x in dict_atributes.values())\u001b[0m\u001b[0;34m\u001b[0m\u001b[0;34m\u001b[0m\u001b[0;34m\u001b[0m\u001b[0m\n\u001b[0;32m---> 16\u001b[0;31m         \u001b[0mupdate\u001b[0m\u001b[0;34m(\u001b[0m\u001b[0mG\u001b[0m\u001b[0;34m,\u001b[0m \u001b[0mp\u001b[0m\u001b[0;34m,\u001b[0m \u001b[0mbeta\u001b[0m\u001b[0;34m)\u001b[0m\u001b[0;34m\u001b[0m\u001b[0;34m\u001b[0m\u001b[0m\n\u001b[0m\u001b[1;32m     17\u001b[0m \u001b[0;34m\u001b[0m\u001b[0m\n",
      "\u001b[0;31mNameError\u001b[0m: name 'beta' is not defined"
     ]
    }
   ],
   "source": [
    "for deg in degrees_to_test:\n",
    "    #create graph\n",
    "    p = deg / 1000\n",
    "    G = nx.generators.random_graphs.fast_gnp_random_graph(1000,p)\n",
    "    nx.set_node_attributes(G,'S', 'infected')\n",
    "    #set initial\n",
    "    initial_index = random.randint(0, len(G) - 1)\n",
    "    G.nodes[random.choice(list(G.nodes))]['infected'] = 'I'\n",
    "    #parameters\n",
    "    \n",
    "    t = 100 #iterations to simulate\n",
    "    Susceptibles = t * [None]\n",
    "    Infectius = t * [None]\n",
    "    Recovered = t * [None]\n",
    "    for i in range(t):\n",
    "        dict_atributes=nx.get_node_attributes(G, 'infected')\n",
    "        #Susceptibles[i] = sum(x == 'S' for x in dict_atributes.values()) \n",
    "        Infectius[i] = sum(x == 'I' for x in dict_atributes.values()) \n",
    "        #Recovered[i] = sum(x == 'R' for x in dict_atributes.values()) \n",
    "        update(G, p, beta)\n",
    "    "
   ]
  },
  {
   "cell_type": "code",
   "execution_count": null,
   "metadata": {},
   "outputs": [],
   "source": []
  }
 ],
 "metadata": {
  "kernelspec": {
   "display_name": "Python 3",
   "language": "python",
   "name": "python3"
  },
  "language_info": {
   "codemirror_mode": {
    "name": "ipython",
    "version": 3
   },
   "file_extension": ".py",
   "mimetype": "text/x-python",
   "name": "python",
   "nbconvert_exporter": "python",
   "pygments_lexer": "ipython3",
   "version": "3.7.6"
  }
 },
 "nbformat": 4,
 "nbformat_minor": 4
}
