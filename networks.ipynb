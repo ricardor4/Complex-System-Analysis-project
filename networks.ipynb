{
 "cells": [
  {
   "cell_type": "code",
   "execution_count": 23,
   "metadata": {
    "ExecuteTime": {
     "end_time": "2020-07-01T18:01:26.411688Z",
     "start_time": "2020-07-01T18:01:26.408213Z"
    }
   },
   "outputs": [],
   "source": [
    "import networkx as nx\n",
    "import random\n",
    "import matplotlib.pyplot as plt\n",
    "import time\n",
    "%matplotlib inline\n",
    "\n",
    "\n",
    "\n"
   ]
  },
  {
   "cell_type": "markdown",
   "metadata": {},
   "source": [
    "We define a function of contagion"
   ]
  },
  {
   "cell_type": "code",
   "execution_count": 24,
   "metadata": {
    "ExecuteTime": {
     "end_time": "2020-07-01T18:01:26.420585Z",
     "start_time": "2020-07-01T18:01:26.415237Z"
    }
   },
   "outputs": [],
   "source": [
    "def propagate_simple(G,p):\n",
    "    to_infect = set([])\n",
    "    # Find infected nodes\n",
    "    for v in G.nodes():\n",
    "        if G.nodes[v]['infected'] == 'I':\n",
    "            #infect all\n",
    "            for w in nx.neighbors(G, v):\n",
    "                if G.nodes[w]['infected'] == 'S':\n",
    "                    if random.random() < p:\n",
    "                        to_infect.add(w)\n",
    "                        break\n",
    "    # Infect marked nodes\n",
    "    for v in to_infect:\n",
    "        G.nodes[v]['infected'] = 'I'"
   ]
  },
  {
   "cell_type": "markdown",
   "metadata": {},
   "source": [
    "We need a recovering function (I->R)"
   ]
  },
  {
   "cell_type": "code",
   "execution_count": 25,
   "metadata": {
    "ExecuteTime": {
     "end_time": "2020-07-01T18:01:26.445522Z",
     "start_time": "2020-07-01T18:01:26.422144Z"
    }
   },
   "outputs": [],
   "source": [
    "def recover(G,beta):\n",
    "    to_recover = set([])\n",
    "    # Find infected nodes\n",
    "    for v in G.nodes():\n",
    "        if G.nodes[v]['infected'] == 'I':\n",
    "            if random.random() < beta:\n",
    "                G.nodes[v]['infected'] = 'R'"
   ]
  },
  {
   "cell_type": "code",
   "execution_count": 26,
   "metadata": {
    "ExecuteTime": {
     "end_time": "2020-07-01T18:01:26.449943Z",
     "start_time": "2020-07-01T18:01:26.447013Z"
    }
   },
   "outputs": [],
   "source": [
    "def update(G, p, q):\n",
    "    propagate_simple(G,p)\n",
    "    recover(G,q)\n",
    "    "
   ]
  },
  {
   "cell_type": "code",
   "execution_count": 27,
   "metadata": {
    "ExecuteTime": {
     "end_time": "2020-07-01T18:01:26.454915Z",
     "start_time": "2020-07-01T18:01:26.451396Z"
    }
   },
   "outputs": [],
   "source": [
    "def plot_graph(G):\n",
    "    node_color = ['#bfbf7f' if G.nodes[v]['infected'] =='I' else '#9f9fff'for v in G.nodes]\n",
    "    \n",
    "    nx.draw_networkx(G, pos=nx.circular_layout(G), node_color=node_color)\n",
    "\n"
   ]
  },
  {
   "cell_type": "markdown",
   "metadata": {},
   "source": [
    "Loading a graph and setting all healthy"
   ]
  },
  {
   "cell_type": "code",
   "execution_count": 28,
   "metadata": {
    "ExecuteTime": {
     "end_time": "2020-07-01T18:01:31.923113Z",
     "start_time": "2020-07-01T18:01:26.456363Z"
    }
   },
   "outputs": [
    {
     "data": {
      "image/png": "[encoded data removed]",
      "text/plain": [
       "<Figure size 432x288 with 1 Axes>"
      ]
     },
     "metadata": {},
     "output_type": "display_data"
    }
   ],
   "source": [
    "#G = nx.generators.classic.cycle_graph(1000)\n",
    "#G = nx.generators.classic.complete_graph(1000)\n",
    "G = nx.generators.random_graphs.fast_gnp_random_graph(1000,0.003)\n",
    "\n",
    "nx.set_node_attributes(G,'S', 'infected')\n",
    "plt.plot()\n",
    "nx.draw(G)\n",
    "plt.show()"
   ]
  },
  {
   "cell_type": "markdown",
   "metadata": {},
   "source": [
    "setting initial contagion"
   ]
  },
  {
   "cell_type": "code",
   "execution_count": 29,
   "metadata": {
    "ExecuteTime": {
     "end_time": "2020-07-01T18:01:31.927522Z",
     "start_time": "2020-07-01T18:01:31.924562Z"
    }
   },
   "outputs": [],
   "source": [
    "initial_index = random.randint(0, len(G) - 1)\n",
    "G.nodes[random.choice(list(G.nodes))]['infected'] = 'I'\n"
   ]
  },
  {
   "cell_type": "code",
   "execution_count": 30,
   "metadata": {
    "ExecuteTime": {
     "end_time": "2020-07-01T18:01:31.936482Z",
     "start_time": "2020-07-01T18:01:31.929539Z"
    }
   },
   "outputs": [],
   "source": [
    "#prob of contagion in contact\n",
    "p = 0.2\n",
    "#prob of recover\n",
    "beta = 1 / 10\n"
   ]
  },
  {
   "cell_type": "markdown",
   "metadata": {},
   "source": [
    "Plots"
   ]
  },
  {
   "cell_type": "code",
   "execution_count": 31,
   "metadata": {
    "ExecuteTime": {
     "end_time": "2020-07-01T18:01:32.176419Z",
     "start_time": "2020-07-01T18:01:31.938173Z"
    }
   },
   "outputs": [],
   "source": [
    "t = 100 #iterations to simulate\n",
    "Susceptibles = t * [None]\n",
    "Infectius = t * [None]\n",
    "Recovered = t * [None]\n",
    "for i in range(t):\n",
    "    dict_atributes=nx.get_node_attributes(G, 'infected')\n",
    "    Susceptibles[i] = sum(x == 'S' for x in dict_atributes.values()) \n",
    "    Infectius[i] = sum(x == 'I' for x in dict_atributes.values()) \n",
    "    Recovered[i] = sum(x == 'R' for x in dict_atributes.values()) \n",
    "    \n",
    "    #plot_graph(G)\n",
    "    #plt.show()\n",
    "    #time.sleep(1)\n",
    "    update(G, p, beta)\n",
    "    \n",
    "    "
   ]
  },
  {
   "cell_type": "code",
   "execution_count": 32,
   "metadata": {
    "ExecuteTime": {
     "end_time": "2020-07-01T18:01:32.424286Z",
     "start_time": "2020-07-01T18:01:32.178084Z"
    }
   },
   "outputs": [
    {
     "data": {
      "image/png": "[encoded data removed]",
      "text/plain": [
       "<Figure size 432x288 with 1 Axes>"
      ]
     },
     "metadata": {
      "needs_background": "light"
     },
     "output_type": "display_data"
    }
   ],
   "source": [
    "plt.plot(Susceptibles, label='Susceptibles')\n",
    "plt.plot(Infectius, label='Infectius')\n",
    "plt.plot(Recovered, label='Recovered')\n",
    "plt.legend(loc='best')\n",
    "plt.xlabel(\"Time (Days)\")\n",
    "plt.ylabel(\"Number of people\")\n",
    "plt.title(\"Expected avg deg 3\")\n",
    "plt.savefig(\"deg2\")\n"
   ]
  }
 ],
 "metadata": {
  "kernelspec": {
   "display_name": "Python 3",
   "language": "python",
   "name": "python3"
  },
  "language_info": {
   "codemirror_mode": {
    "name": "ipython",
    "version": 3
   },
   "file_extension": ".py",
   "mimetype": "text/x-python",
   "name": "python",
   "nbconvert_exporter": "python",
   "pygments_lexer": "ipython3",
   "version": "3.7.6"
  }
 },
 "nbformat": 4,
 "nbformat_minor": 4
}
